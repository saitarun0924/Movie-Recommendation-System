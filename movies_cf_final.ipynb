{
 "cells": [
  {
   "cell_type": "markdown",
   "metadata": {},
   "source": [
    "## Recommending movies using Collaborative Filtering "
   ]
  },
  {
   "cell_type": "code",
   "execution_count": 1,
   "metadata": {},
   "outputs": [],
   "source": [
    "import pandas as pd\n",
    "import numpy as np\n",
    "from scipy.spatial.distance import hamming"
   ]
  },
  {
   "cell_type": "code",
   "execution_count": 2,
   "metadata": {},
   "outputs": [],
   "source": [
    "import warnings\n",
    "warnings.simplefilter(action='ignore',category=Warning)"
   ]
  },
  {
   "cell_type": "code",
   "execution_count": 3,
   "metadata": {},
   "outputs": [],
   "source": [
    "df_ratings = pd.read_csv(\"recent_ratings.csv\")\n",
    "df_movies = pd.read_csv('recent_movies.csv')"
   ]
  },
  {
   "cell_type": "code",
   "execution_count": 4,
   "metadata": {},
   "outputs": [
    {
     "data": {
      "text/plain": [
       "((552, 4), (188, 4))"
      ]
     },
     "execution_count": 4,
     "metadata": {},
     "output_type": "execute_result"
    }
   ],
   "source": [
    "df_ratings.shape, df_movies.shape"
   ]
  },
  {
   "cell_type": "code",
   "execution_count": 5,
   "metadata": {},
   "outputs": [
    {
     "data": {
      "text/plain": [
       "63"
      ]
     },
     "execution_count": 5,
     "metadata": {},
     "output_type": "execute_result"
    }
   ],
   "source": [
    "df_ratings.userId.unique().size  # No. of unique users "
   ]
  },
  {
   "cell_type": "code",
   "execution_count": 6,
   "metadata": {},
   "outputs": [
    {
     "data": {
      "text/plain": [
       "188"
      ]
     },
     "execution_count": 6,
     "metadata": {},
     "output_type": "execute_result"
    }
   ],
   "source": [
    "df_ratings.movieId.unique().size  # No. of unique movies "
   ]
  },
  {
   "cell_type": "code",
   "execution_count": 7,
   "metadata": {},
   "outputs": [
    {
     "data": {
      "text/html": [
       "<div>\n",
       "<style scoped>\n",
       "    .dataframe tbody tr th:only-of-type {\n",
       "        vertical-align: middle;\n",
       "    }\n",
       "\n",
       "    .dataframe tbody tr th {\n",
       "        vertical-align: top;\n",
       "    }\n",
       "\n",
       "    .dataframe thead th {\n",
       "        text-align: right;\n",
       "    }\n",
       "</style>\n",
       "<table border=\"1\" class=\"dataframe\">\n",
       "  <thead>\n",
       "    <tr style=\"text-align: right;\">\n",
       "      <th></th>\n",
       "      <th>userId</th>\n",
       "      <th>movieId</th>\n",
       "      <th>rating</th>\n",
       "      <th>timestamp</th>\n",
       "    </tr>\n",
       "  </thead>\n",
       "  <tbody>\n",
       "    <tr>\n",
       "      <th>286</th>\n",
       "      <td>306</td>\n",
       "      <td>175199</td>\n",
       "      <td>4.0</td>\n",
       "      <td>1518380703</td>\n",
       "    </tr>\n",
       "    <tr>\n",
       "      <th>82</th>\n",
       "      <td>105</td>\n",
       "      <td>179133</td>\n",
       "      <td>5.0</td>\n",
       "      <td>1526207351</td>\n",
       "    </tr>\n",
       "    <tr>\n",
       "      <th>419</th>\n",
       "      <td>514</td>\n",
       "      <td>175303</td>\n",
       "      <td>3.0</td>\n",
       "      <td>1533874664</td>\n",
       "    </tr>\n",
       "    <tr>\n",
       "      <th>540</th>\n",
       "      <td>601</td>\n",
       "      <td>122916</td>\n",
       "      <td>3.5</td>\n",
       "      <td>1521397630</td>\n",
       "    </tr>\n",
       "    <tr>\n",
       "      <th>379</th>\n",
       "      <td>414</td>\n",
       "      <td>176751</td>\n",
       "      <td>4.0</td>\n",
       "      <td>1521844173</td>\n",
       "    </tr>\n",
       "  </tbody>\n",
       "</table>\n",
       "</div>"
      ],
      "text/plain": [
       "     userId  movieId  rating   timestamp\n",
       "286     306   175199     4.0  1518380703\n",
       "82      105   179133     5.0  1526207351\n",
       "419     514   175303     3.0  1533874664\n",
       "540     601   122916     3.5  1521397630\n",
       "379     414   176751     4.0  1521844173"
      ]
     },
     "execution_count": 7,
     "metadata": {},
     "output_type": "execute_result"
    }
   ],
   "source": [
    "df_ratings.sample(5)"
   ]
  },
  {
   "cell_type": "code",
   "execution_count": 8,
   "metadata": {},
   "outputs": [],
   "source": [
    "# Remove timestamp column  \n",
    "df_ratings.drop(columns='timestamp', inplace=True)"
   ]
  },
  {
   "cell_type": "code",
   "execution_count": 9,
   "metadata": {},
   "outputs": [
    {
     "data": {
      "text/html": [
       "<div>\n",
       "<style scoped>\n",
       "    .dataframe tbody tr th:only-of-type {\n",
       "        vertical-align: middle;\n",
       "    }\n",
       "\n",
       "    .dataframe tbody tr th {\n",
       "        vertical-align: top;\n",
       "    }\n",
       "\n",
       "    .dataframe thead th {\n",
       "        text-align: right;\n",
       "    }\n",
       "</style>\n",
       "<table border=\"1\" class=\"dataframe\">\n",
       "  <thead>\n",
       "    <tr style=\"text-align: right;\">\n",
       "      <th></th>\n",
       "      <th>userId</th>\n",
       "      <th>movieId</th>\n",
       "      <th>rating</th>\n",
       "    </tr>\n",
       "  </thead>\n",
       "  <tbody>\n",
       "    <tr>\n",
       "      <th>313</th>\n",
       "      <td>338</td>\n",
       "      <td>185029</td>\n",
       "      <td>1.0</td>\n",
       "    </tr>\n",
       "    <tr>\n",
       "      <th>258</th>\n",
       "      <td>252</td>\n",
       "      <td>122896</td>\n",
       "      <td>3.0</td>\n",
       "    </tr>\n",
       "    <tr>\n",
       "      <th>237</th>\n",
       "      <td>249</td>\n",
       "      <td>166534</td>\n",
       "      <td>4.5</td>\n",
       "    </tr>\n",
       "    <tr>\n",
       "      <th>227</th>\n",
       "      <td>248</td>\n",
       "      <td>176371</td>\n",
       "      <td>2.5</td>\n",
       "    </tr>\n",
       "    <tr>\n",
       "      <th>481</th>\n",
       "      <td>586</td>\n",
       "      <td>122906</td>\n",
       "      <td>5.0</td>\n",
       "    </tr>\n",
       "  </tbody>\n",
       "</table>\n",
       "</div>"
      ],
      "text/plain": [
       "     userId  movieId  rating\n",
       "313     338   185029     1.0\n",
       "258     252   122896     3.0\n",
       "237     249   166534     4.5\n",
       "227     248   176371     2.5\n",
       "481     586   122906     5.0"
      ]
     },
     "execution_count": 9,
     "metadata": {},
     "output_type": "execute_result"
    }
   ],
   "source": [
    "df_ratings.sample(5)"
   ]
  },
  {
   "cell_type": "code",
   "execution_count": 10,
   "metadata": {},
   "outputs": [
    {
     "data": {
      "text/html": [
       "<div>\n",
       "<style scoped>\n",
       "    .dataframe tbody tr th:only-of-type {\n",
       "        vertical-align: middle;\n",
       "    }\n",
       "\n",
       "    .dataframe tbody tr th {\n",
       "        vertical-align: top;\n",
       "    }\n",
       "\n",
       "    .dataframe thead th {\n",
       "        text-align: right;\n",
       "    }\n",
       "</style>\n",
       "<table border=\"1\" class=\"dataframe\">\n",
       "  <thead>\n",
       "    <tr style=\"text-align: right;\">\n",
       "      <th></th>\n",
       "      <th>movieId</th>\n",
       "      <th>title</th>\n",
       "      <th>genres</th>\n",
       "      <th>year</th>\n",
       "    </tr>\n",
       "  </thead>\n",
       "  <tbody>\n",
       "    <tr>\n",
       "      <th>60</th>\n",
       "      <td>173209</td>\n",
       "      <td>War Machine (2017)</td>\n",
       "      <td>Comedy|Drama|War</td>\n",
       "      <td>2017</td>\n",
       "    </tr>\n",
       "    <tr>\n",
       "      <th>56</th>\n",
       "      <td>172705</td>\n",
       "      <td>Tickling Giants (2017)</td>\n",
       "      <td>Documentary</td>\n",
       "      <td>2017</td>\n",
       "    </tr>\n",
       "    <tr>\n",
       "      <th>159</th>\n",
       "      <td>185033</td>\n",
       "      <td>I Kill Giants (2018)</td>\n",
       "      <td>Drama|Fantasy|Thriller</td>\n",
       "      <td>2018</td>\n",
       "    </tr>\n",
       "    <tr>\n",
       "      <th>103</th>\n",
       "      <td>178111</td>\n",
       "      <td>Fireworks, Should We See It from the Side or t...</td>\n",
       "      <td>Animation</td>\n",
       "      <td>2017</td>\n",
       "    </tr>\n",
       "    <tr>\n",
       "      <th>145</th>\n",
       "      <td>183897</td>\n",
       "      <td>Isle of Dogs (2018)</td>\n",
       "      <td>Animation|Comedy</td>\n",
       "      <td>2018</td>\n",
       "    </tr>\n",
       "  </tbody>\n",
       "</table>\n",
       "</div>"
      ],
      "text/plain": [
       "     movieId                                              title  \\\n",
       "60    173209                                 War Machine (2017)   \n",
       "56    172705                             Tickling Giants (2017)   \n",
       "159   185033                               I Kill Giants (2018)   \n",
       "103   178111  Fireworks, Should We See It from the Side or t...   \n",
       "145   183897                                Isle of Dogs (2018)   \n",
       "\n",
       "                     genres  year  \n",
       "60         Comedy|Drama|War  2017  \n",
       "56              Documentary  2017  \n",
       "159  Drama|Fantasy|Thriller  2018  \n",
       "103               Animation  2017  \n",
       "145        Animation|Comedy  2018  "
      ]
     },
     "execution_count": 10,
     "metadata": {},
     "output_type": "execute_result"
    }
   ],
   "source": [
    "df_movies.sample(5)"
   ]
  },
  {
   "cell_type": "code",
   "execution_count": 11,
   "metadata": {},
   "outputs": [],
   "source": [
    "# Get rating for each user and movie - userid is row label and movieid is column label \n",
    "ratings = df_ratings.pivot(\n",
    "    index='userId',\n",
    "    columns='movieId',\n",
    "    values='rating')"
   ]
  },
  {
   "cell_type": "code",
   "execution_count": 12,
   "metadata": {},
   "outputs": [
    {
     "data": {
      "text/html": [
       "<div>\n",
       "<style scoped>\n",
       "    .dataframe tbody tr th:only-of-type {\n",
       "        vertical-align: middle;\n",
       "    }\n",
       "\n",
       "    .dataframe tbody tr th {\n",
       "        vertical-align: top;\n",
       "    }\n",
       "\n",
       "    .dataframe thead th {\n",
       "        text-align: right;\n",
       "    }\n",
       "</style>\n",
       "<table border=\"1\" class=\"dataframe\">\n",
       "  <thead>\n",
       "    <tr style=\"text-align: right;\">\n",
       "      <th>movieId</th>\n",
       "      <th>122896</th>\n",
       "      <th>122898</th>\n",
       "      <th>122906</th>\n",
       "      <th>122912</th>\n",
       "      <th>122916</th>\n",
       "      <th>122918</th>\n",
       "      <th>122926</th>\n",
       "      <th>143355</th>\n",
       "      <th>166534</th>\n",
       "      <th>167064</th>\n",
       "      <th>...</th>\n",
       "      <th>189381</th>\n",
       "      <th>189713</th>\n",
       "      <th>190183</th>\n",
       "      <th>190209</th>\n",
       "      <th>190215</th>\n",
       "      <th>191005</th>\n",
       "      <th>193581</th>\n",
       "      <th>193583</th>\n",
       "      <th>193585</th>\n",
       "      <th>193587</th>\n",
       "    </tr>\n",
       "    <tr>\n",
       "      <th>userId</th>\n",
       "      <th></th>\n",
       "      <th></th>\n",
       "      <th></th>\n",
       "      <th></th>\n",
       "      <th></th>\n",
       "      <th></th>\n",
       "      <th></th>\n",
       "      <th></th>\n",
       "      <th></th>\n",
       "      <th></th>\n",
       "      <th></th>\n",
       "      <th></th>\n",
       "      <th></th>\n",
       "      <th></th>\n",
       "      <th></th>\n",
       "      <th></th>\n",
       "      <th></th>\n",
       "      <th></th>\n",
       "      <th></th>\n",
       "      <th></th>\n",
       "      <th></th>\n",
       "    </tr>\n",
       "  </thead>\n",
       "  <tbody>\n",
       "    <tr>\n",
       "      <th>18</th>\n",
       "      <td>NaN</td>\n",
       "      <td>NaN</td>\n",
       "      <td>NaN</td>\n",
       "      <td>NaN</td>\n",
       "      <td>NaN</td>\n",
       "      <td>4.0</td>\n",
       "      <td>3.5</td>\n",
       "      <td>NaN</td>\n",
       "      <td>NaN</td>\n",
       "      <td>NaN</td>\n",
       "      <td>...</td>\n",
       "      <td>NaN</td>\n",
       "      <td>NaN</td>\n",
       "      <td>NaN</td>\n",
       "      <td>NaN</td>\n",
       "      <td>NaN</td>\n",
       "      <td>NaN</td>\n",
       "      <td>NaN</td>\n",
       "      <td>NaN</td>\n",
       "      <td>NaN</td>\n",
       "      <td>NaN</td>\n",
       "    </tr>\n",
       "    <tr>\n",
       "      <th>50</th>\n",
       "      <td>NaN</td>\n",
       "      <td>0.5</td>\n",
       "      <td>NaN</td>\n",
       "      <td>NaN</td>\n",
       "      <td>NaN</td>\n",
       "      <td>1.0</td>\n",
       "      <td>NaN</td>\n",
       "      <td>NaN</td>\n",
       "      <td>NaN</td>\n",
       "      <td>NaN</td>\n",
       "      <td>...</td>\n",
       "      <td>NaN</td>\n",
       "      <td>NaN</td>\n",
       "      <td>3.5</td>\n",
       "      <td>NaN</td>\n",
       "      <td>NaN</td>\n",
       "      <td>NaN</td>\n",
       "      <td>NaN</td>\n",
       "      <td>NaN</td>\n",
       "      <td>NaN</td>\n",
       "      <td>NaN</td>\n",
       "    </tr>\n",
       "    <tr>\n",
       "      <th>318</th>\n",
       "      <td>NaN</td>\n",
       "      <td>NaN</td>\n",
       "      <td>4.0</td>\n",
       "      <td>NaN</td>\n",
       "      <td>NaN</td>\n",
       "      <td>NaN</td>\n",
       "      <td>NaN</td>\n",
       "      <td>3.5</td>\n",
       "      <td>NaN</td>\n",
       "      <td>NaN</td>\n",
       "      <td>...</td>\n",
       "      <td>2.5</td>\n",
       "      <td>NaN</td>\n",
       "      <td>NaN</td>\n",
       "      <td>NaN</td>\n",
       "      <td>NaN</td>\n",
       "      <td>NaN</td>\n",
       "      <td>NaN</td>\n",
       "      <td>NaN</td>\n",
       "      <td>NaN</td>\n",
       "      <td>NaN</td>\n",
       "    </tr>\n",
       "    <tr>\n",
       "      <th>448</th>\n",
       "      <td>NaN</td>\n",
       "      <td>NaN</td>\n",
       "      <td>NaN</td>\n",
       "      <td>NaN</td>\n",
       "      <td>NaN</td>\n",
       "      <td>NaN</td>\n",
       "      <td>NaN</td>\n",
       "      <td>NaN</td>\n",
       "      <td>NaN</td>\n",
       "      <td>NaN</td>\n",
       "      <td>...</td>\n",
       "      <td>NaN</td>\n",
       "      <td>NaN</td>\n",
       "      <td>NaN</td>\n",
       "      <td>NaN</td>\n",
       "      <td>NaN</td>\n",
       "      <td>NaN</td>\n",
       "      <td>NaN</td>\n",
       "      <td>NaN</td>\n",
       "      <td>NaN</td>\n",
       "      <td>NaN</td>\n",
       "    </tr>\n",
       "    <tr>\n",
       "      <th>610</th>\n",
       "      <td>NaN</td>\n",
       "      <td>NaN</td>\n",
       "      <td>NaN</td>\n",
       "      <td>NaN</td>\n",
       "      <td>NaN</td>\n",
       "      <td>NaN</td>\n",
       "      <td>NaN</td>\n",
       "      <td>NaN</td>\n",
       "      <td>4.0</td>\n",
       "      <td>NaN</td>\n",
       "      <td>...</td>\n",
       "      <td>NaN</td>\n",
       "      <td>NaN</td>\n",
       "      <td>NaN</td>\n",
       "      <td>NaN</td>\n",
       "      <td>NaN</td>\n",
       "      <td>NaN</td>\n",
       "      <td>NaN</td>\n",
       "      <td>NaN</td>\n",
       "      <td>NaN</td>\n",
       "      <td>NaN</td>\n",
       "    </tr>\n",
       "  </tbody>\n",
       "</table>\n",
       "<p>5 rows × 188 columns</p>\n",
       "</div>"
      ],
      "text/plain": [
       "movieId  122896  122898  122906  122912  122916  122918  122926  143355  \\\n",
       "userId                                                                    \n",
       "18          NaN     NaN     NaN     NaN     NaN     4.0     3.5     NaN   \n",
       "50          NaN     0.5     NaN     NaN     NaN     1.0     NaN     NaN   \n",
       "318         NaN     NaN     4.0     NaN     NaN     NaN     NaN     3.5   \n",
       "448         NaN     NaN     NaN     NaN     NaN     NaN     NaN     NaN   \n",
       "610         NaN     NaN     NaN     NaN     NaN     NaN     NaN     NaN   \n",
       "\n",
       "movieId  166534  167064  ...  189381  189713  190183  190209  190215  191005  \\\n",
       "userId                   ...                                                   \n",
       "18          NaN     NaN  ...     NaN     NaN     NaN     NaN     NaN     NaN   \n",
       "50          NaN     NaN  ...     NaN     NaN     3.5     NaN     NaN     NaN   \n",
       "318         NaN     NaN  ...     2.5     NaN     NaN     NaN     NaN     NaN   \n",
       "448         NaN     NaN  ...     NaN     NaN     NaN     NaN     NaN     NaN   \n",
       "610         4.0     NaN  ...     NaN     NaN     NaN     NaN     NaN     NaN   \n",
       "\n",
       "movieId  193581  193583  193585  193587  \n",
       "userId                                   \n",
       "18          NaN     NaN     NaN     NaN  \n",
       "50          NaN     NaN     NaN     NaN  \n",
       "318         NaN     NaN     NaN     NaN  \n",
       "448         NaN     NaN     NaN     NaN  \n",
       "610         NaN     NaN     NaN     NaN  \n",
       "\n",
       "[5 rows x 188 columns]"
      ]
     },
     "execution_count": 12,
     "metadata": {},
     "output_type": "execute_result"
    }
   ],
   "source": [
    "ratings.sample(5)"
   ]
  },
  {
   "cell_type": "code",
   "execution_count": 13,
   "metadata": {},
   "outputs": [
    {
     "data": {
      "text/plain": [
       "movieId\n",
       "122912    2.0\n",
       "168266    3.5\n",
       "174055    2.5\n",
       "177593    5.0\n",
       "178061    3.0\n",
       "180031    3.5\n",
       "183011    1.5\n",
       "183897    3.5\n",
       "187593    2.5\n",
       "Name: 233, dtype: float64"
      ]
     },
     "execution_count": 13,
     "metadata": {},
     "output_type": "execute_result"
    }
   ],
   "source": [
    "ratings.loc[233, ratings.loc[233,:].notna()]  # Ratings given by 233 "
   ]
  },
  {
   "cell_type": "markdown",
   "metadata": {},
   "source": [
    "### Hamming Distance\n",
    "Measures how different two sequences are. It is <b>% of disagreement </b>. A value of 1 indicates sequences are very different, 0 indicates they are very similar."
   ]
  },
  {
   "cell_type": "code",
   "execution_count": 14,
   "metadata": {},
   "outputs": [
    {
     "name": "stdout",
     "output_type": "stream",
     "text": [
      "0.5\n",
      "0.75\n"
     ]
    }
   ],
   "source": [
    "l1 = (1,2,4,np.nan)\n",
    "l2 = (1,2,np.nan,3)\n",
    "l3 = (1,np.nan, 3,5)\n",
    "print(hamming(l1,l2))\n",
    "print(hamming(l1,l3))"
   ]
  },
  {
   "cell_type": "code",
   "execution_count": 15,
   "metadata": {
    "tags": []
   },
   "outputs": [],
   "source": [
    "# Find out hamming distance between ratings of two users\n",
    "def hamming_distance(user1,user2):\n",
    "    # Ratings of a user \n",
    "    try:\n",
    "        user1_ratings = ratings.loc[user1,:]\n",
    "        user2_ratings = ratings.loc[user2,:]\n",
    "        distance = hamming(user1_ratings, user2_ratings)\n",
    "    except:\n",
    "        distance = np.NaN\n",
    "\n",
    "    return distance    "
   ]
  },
  {
   "cell_type": "code",
   "execution_count": 16,
   "metadata": {
    "tags": []
   },
   "outputs": [],
   "source": [
    "# Get neighbours of the given user \n",
    "def get_nearest_users(active_user, k = 10):\n",
    "    all_users = pd.DataFrame(ratings.index) # UserIds \n",
    "    other_users = all_users[all_users.userId != active_user]\n",
    "    \n",
    "    other_users['distance'] = other_users['userId'].apply(lambda x: hamming_distance(active_user,x))\n",
    "    \n",
    "    # find out hamming distance and return users with low hamming distance from active user \n",
    "    return  other_users.sort_values(['distance'], ascending = True).userId[:k]"
   ]
  },
  {
   "cell_type": "code",
   "execution_count": 17,
   "metadata": {},
   "outputs": [],
   "source": [
    "def get_recommended_movies(ratings, movies, user, top=5):\n",
    "    # Find out nearest neighbours based on hamming distance \n",
    "    nn_users = get_nearest_users(user,10)\n",
    "    print(nn_users)\n",
    "    # Get ratings of nearest neighbours(users)\n",
    "    nn_ratings = ratings[ratings.index.isin(nn_users)]\n",
    "    \n",
    "    # Average ratings given by nearest neighbours for all movies\n",
    "    avg_ratings = nn_ratings.apply(np.nanmean).dropna()\n",
    "    print(avg_ratings[:20])\n",
    "    \n",
    "    # Find out movies that user had already watched\n",
    "    movies_watched = ratings.transpose()[user].dropna().index\n",
    "    \n",
    "    # remove movies that user already watched\n",
    "    avg_ratings = avg_ratings[~ avg_ratings.index.isin(movies_watched)]\n",
    "    \n",
    "    # Findout top n movies based on avg ratings given by nearest neighbours \n",
    "    top_movies_ids = avg_ratings.sort_values(ascending=False).index[:top]\n",
    "   \n",
    "    # Return recommended movies \n",
    "    return movies[movies.movieId.isin(top_movies_ids)].title"
   ]
  },
  {
   "cell_type": "code",
   "execution_count": 18,
   "metadata": {},
   "outputs": [
    {
     "name": "stdout",
     "output_type": "stream",
     "text": [
      "18    210\n",
      "15    184\n",
      "39    414\n",
      "28    305\n",
      "58    586\n",
      "5      62\n",
      "62    610\n",
      "19    212\n",
      "13    125\n",
      "11    111\n",
      "Name: userId, dtype: int64\n",
      "movieId\n",
      "122896    3.875000\n",
      "122898    3.000000\n",
      "122906    4.100000\n",
      "122912    4.500000\n",
      "122916    4.357143\n",
      "122918    4.166667\n",
      "122926    4.285714\n",
      "143355    3.600000\n",
      "166534    3.000000\n",
      "167634    4.500000\n",
      "167746    3.750000\n",
      "168218    4.500000\n",
      "168248    4.500000\n",
      "168250    4.000000\n",
      "168252    4.500000\n",
      "168254    3.000000\n",
      "168266    3.750000\n",
      "168326    4.500000\n",
      "168366    4.000000\n",
      "168418    4.750000\n",
      "dtype: float64\n"
     ]
    },
    {
     "data": {
      "text/plain": [
       "22                                 The Boss Baby (2017)\n",
       "56                               Tickling Giants (2017)\n",
       "97     Three Billboards Outside Ebbing, Missouri (2017)\n",
       "105                                 Paddington 2 (2017)\n",
       "145                                 Isle of Dogs (2018)\n",
       "Name: title, dtype: object"
      ]
     },
     "execution_count": 18,
     "metadata": {},
     "output_type": "execute_result"
    }
   ],
   "source": [
    "get_recommended_movies(ratings,df_movies,249,5)"
   ]
  },
  {
   "cell_type": "code",
   "execution_count": 19,
   "metadata": {},
   "outputs": [
    {
     "name": "stdout",
     "output_type": "stream",
     "text": [
      "14    153\n",
      "0      18\n",
      "33    339\n",
      "34    362\n",
      "35    363\n",
      "36    380\n",
      "37    400\n",
      "38    401\n",
      "39    414\n",
      "40    417\n",
      "Name: userId, dtype: int64\n",
      "movieId\n",
      "122898    3.000000\n",
      "122906    3.750000\n",
      "122912    5.000000\n",
      "122916    4.500000\n",
      "122918    4.500000\n",
      "122926    4.333333\n",
      "143355    3.750000\n",
      "167746    5.000000\n",
      "168248    5.000000\n",
      "168250    3.500000\n",
      "168252    4.200000\n",
      "168254    4.000000\n",
      "168326    5.000000\n",
      "168492    4.500000\n",
      "168612    4.000000\n",
      "169982    3.000000\n",
      "169984    2.000000\n",
      "169992    3.500000\n",
      "170939    3.500000\n",
      "171023    4.000000\n",
      "dtype: float64\n"
     ]
    },
    {
     "data": {
      "text/plain": [
       "3     Avengers: Infinity War - Part I (2018)\n",
       "12              The Lego Batman Movie (2017)\n",
       "15             John Wick: Chapter Two (2017)\n",
       "20                       The Big Sick (2017)\n",
       "23               Call Me by Your Name (2017)\n",
       "Name: title, dtype: object"
      ]
     },
     "execution_count": 19,
     "metadata": {},
     "output_type": "execute_result"
    }
   ],
   "source": [
    "get_recommended_movies(ratings, df_movies, 433,5)"
   ]
  },
  {
   "cell_type": "code",
   "execution_count": 20,
   "metadata": {},
   "outputs": [
    {
     "name": "stdout",
     "output_type": "stream",
     "text": [
      "60    599\n",
      "22    249\n",
      "5      62\n",
      "6      68\n",
      "28    305\n",
      "35    363\n",
      "49    514\n",
      "24    258\n",
      "46    475\n",
      "39    414\n",
      "Name: userId, dtype: int64\n",
      "movieId\n",
      "122896    3.500000\n",
      "122898    4.000000\n",
      "122906    3.500000\n",
      "122912    4.333333\n",
      "122916    3.833333\n",
      "122918    3.777778\n",
      "122926    4.083333\n",
      "143355    3.625000\n",
      "166534    4.500000\n",
      "167746    4.000000\n",
      "168248    3.750000\n",
      "168250    3.375000\n",
      "168252    4.187500\n",
      "168254    4.000000\n",
      "168266    3.750000\n",
      "168326    4.000000\n",
      "168492    3.000000\n",
      "168608    3.000000\n",
      "168612    4.000000\n",
      "169958    1.000000\n",
      "dtype: float64\n"
     ]
    },
    {
     "data": {
      "text/plain": [
       "1                                 Justice League (2017)\n",
       "3                Avengers: Infinity War - Part I (2018)\n",
       "6                     Untitled Spider-Man Reboot (2017)\n",
       "8                                          Split (2017)\n",
       "58                                    The Square (2017)\n",
       "65                                 Seven Sisters (2017)\n",
       "97     Three Billboards Outside Ebbing, Missouri (2017)\n",
       "157                                A Quiet Place (2018)\n",
       "158                                        Alpha (2018)\n",
       "166                                   Deadpool 2 (2018)\n",
       "Name: title, dtype: object"
      ]
     },
     "execution_count": 20,
     "metadata": {},
     "output_type": "execute_result"
    }
   ],
   "source": [
    "get_recommended_movies(ratings, df_movies, 125, 10)"
   ]
  },
  {
   "cell_type": "code",
   "execution_count": null,
   "metadata": {},
   "outputs": [],
   "source": []
  }
 ],
 "metadata": {
  "kernelspec": {
   "display_name": "Python 3 (ipykernel)",
   "language": "python",
   "name": "python3"
  },
  "language_info": {
   "codemirror_mode": {
    "name": "ipython",
    "version": 3
   },
   "file_extension": ".py",
   "mimetype": "text/x-python",
   "name": "python",
   "nbconvert_exporter": "python",
   "pygments_lexer": "ipython3",
   "version": "3.9.13"
  }
 },
 "nbformat": 4,
 "nbformat_minor": 4
}
